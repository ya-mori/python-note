{
 "cells": [
  {
   "cell_type": "markdown",
   "metadata": {},
   "source": [
    "# 分類方法による違いを確認する\n",
    "\n",
    "1. ２クラスのデータを生成\n",
    "2. 最小２乗誤差法・フィッシャー法・ロジスティック回帰の３種類で分類する\n",
    "3. 上記を色々なデータで試して分類による違いが出るかを確認する\n"
   ]
  },
  {
   "cell_type": "code",
   "execution_count": 1,
   "metadata": {},
   "outputs": [],
   "source": [
    "import numpy as np\n",
    "import pandas as pd\n",
    "import matplotlib.pyplot as plt\n",
    "%matplotlib inline\n",
    "import seaborn as sns\n",
    "from abc import ABCMeta, abstractmethod\n",
    "from sklearn.datasets import make_classification\n",
    "from sklearn.linear_model import LogisticRegression\n",
    "from sklearn.linear_model import LinearRegression"
   ]
  },
  {
   "cell_type": "code",
   "execution_count": 2,
   "metadata": {},
   "outputs": [],
   "source": [
    "class CovarianceMatrix(pd.DataFrame):\n",
    "    \"\"\"\n",
    "    共分散行列です。\n",
    "    生成する際に自動で固有値・固有ベクトルを計算します。\n",
    "    \"\"\"\n",
    "    @property\n",
    "    def unique_val(self):\n",
    "        \"\"\"\n",
    "        固有値のプロパティです。\n",
    "        \"\"\"\n",
    "        return pd.DataFrame(self._cal_unique()[0])\n",
    "    \n",
    "    @property\n",
    "    def unique_vec(self):\n",
    "        \"\"\"\n",
    "        固有ベクトルのプロパティです。\n",
    "        \"\"\"\n",
    "        return pd.DataFrame(self._cal_unique()[1])\n",
    "    \n",
    "    def _cal_unique(self):\n",
    "        \"\"\"\n",
    "        固有値・固有ベクトルを計算します。\n",
    "        \"\"\"\n",
    "        return np.linalg.eig(self.values)\n",
    "    \n",
    "    @staticmethod\n",
    "    def compose(vec_var, vec_cov):\n",
    "        \"\"\"\n",
    "        与えられた分散ベクトル・共分散ベクトルから、共分散行列を生成します。\n",
    "        \"\"\"\n",
    "        return CovarianceMatrix([[vec_var[0]**2, vec_cov[0]], [vec_cov[0], vec_var[1] ** 2]])\n",
    "\n",
    "    @staticmethod\n",
    "    def genarate(nd_array: np.array):\n",
    "        \"\"\"\n",
    "        与えられたデータから、共分散行列を生成します。\n",
    "        \"\"\"\n",
    "        return CovarianceMatrix(np.cov(nd_array, rowvar=False))"
   ]
  },
  {
   "cell_type": "code",
   "execution_count": 3,
   "metadata": {},
   "outputs": [
    {
     "data": {
      "text/plain": [
       "Text(0,0.5,'Feature 2')"
      ]
     },
     "execution_count": 3,
     "metadata": {},
     "output_type": "execute_result"
    },
    {
     "data": {
      "text/plain": [
       "<Figure size 432x288 with 0 Axes>"
      ]
     },
     "metadata": {},
     "output_type": "display_data"
    },
    {
     "data": {
      "image/png": "[encoded data removed]",
      "text/plain": [
       "<Figure size 576x504 with 1 Axes>"
      ]
     },
     "metadata": {},
     "output_type": "display_data"
    }
   ],
   "source": [
    "def get_data():\n",
    "    X, Y = make_classification(\n",
    "        random_state=None,\n",
    "        n_features=2, \n",
    "        n_redundant=0, \n",
    "        n_informative=1,\n",
    "        n_clusters_per_class=1,\n",
    "        n_classes=2)\n",
    "    df = pd.DataFrame(data=X)\n",
    "    df['target'] = Y\n",
    "    return df\n",
    "\n",
    "df = get_data()\n",
    "x = df.drop('target', axis=1)\n",
    "y = df['target']\n",
    "fig = plt.figure()\n",
    "plt.figure(figsize=(8, 7))\n",
    "plt.title(\"make_classification : n_features=2  n_classes=2\")\n",
    "plt.scatter(x.loc[:, 0], x.loc[:, 1], marker='o', c=y, s=25, edgecolor='k')\n",
    "plt.xlabel(\"Feature 1\")\n",
    "plt.ylabel(\"Feature 2\")"
   ]
  },
  {
   "cell_type": "markdown",
   "metadata": {},
   "source": [
    "## 判別機を定義"
   ]
  },
  {
   "cell_type": "code",
   "execution_count": 4,
   "metadata": {},
   "outputs": [],
   "source": [
    "class Classificater():\n",
    "    \"\"\"\n",
    "    分類機です\n",
    "    \"\"\"\n",
    "    def __init__(self, df_train, df_label):\n",
    "        self.df_train = df_train\n",
    "        self.df_label = df_label\n",
    "    \n",
    "    @classmethod\n",
    "    def init(cls, df_train, df_label):\n",
    "        \"\"\"\n",
    "        分類機のインスタンスを生成します。\n",
    "        \"\"\"\n",
    "        if df_train.shape[0] != df_label.shape[0]:\n",
    "            print(f\"df_train : {df_train.shape}\")\n",
    "            print(f\"df_label : {df_label.shape}\")\n",
    "            raise Exception('データセットの次元が不正です。')\n",
    "        return cls(df_train=df_train, df_label=df_label)\n",
    "        \n",
    "    def print_shape(self):\n",
    "        \"\"\"\n",
    "        形状を表示します\n",
    "        \"\"\"\n",
    "        print(f\"df_train : {self.df_train.shape}\")\n",
    "        print(f\"df_label : {self.df_label.shape}\")\n",
    "#         print(f\"df_omega : {self.df_omega.shape}\")\n",
    "    \n",
    "    @abstractmethod\n",
    "    def fit(self):\n",
    "        \"\"\"\n",
    "        学習を行います。\n",
    "        \"\"\"\n",
    "        pass\n",
    "    \n",
    "    @abstractmethod\n",
    "    def predict(self, nd_sample):\n",
    "        \"\"\"\n",
    "        予測を行います。\n",
    "        \"\"\"\n",
    "        pass\n"
   ]
  },
  {
   "cell_type": "code",
   "execution_count": 5,
   "metadata": {},
   "outputs": [],
   "source": [
    "def get_grid(xlim, ylim, num):\n",
    "    \"\"\"\n",
    "    グリッドデータを取得します\n",
    "    \"\"\"\n",
    "    range_x = np.linspace(int(xlim[0]), int(xlim[1]), num)\n",
    "    range_y = np.linspace(int(ylim[0]), int(ylim[1]), num)\n",
    "    ranges = (range_x, range_y)\n",
    "    nd_x = np.meshgrid(range_x, range_y)\n",
    "    return ranges, np.array(nd_x).reshape(2, nd_x[0].size)"
   ]
  },
  {
   "cell_type": "markdown",
   "metadata": {},
   "source": [
    "## 判別機を実装"
   ]
  },
  {
   "cell_type": "code",
   "execution_count": 6,
   "metadata": {},
   "outputs": [
    {
     "name": "stdout",
     "output_type": "stream",
     "text": [
      "df_train : (100, 2)\n",
      "df_label : (100,)\n",
      "df_train : (100, 2)\n",
      "df_label : (100,)\n",
      "df_train : (100, 2)\n",
      "df_label : (100,)\n"
     ]
    }
   ],
   "source": [
    "class SquaresErrorClassificater(Classificater):\n",
    "    \"\"\"\n",
    "    最小２乗法を用いた分類機です。\n",
    "    \"\"\"\n",
    "    def __init__(self, df_train, df_label):\n",
    "        super().__init__(df_train, df_label)\n",
    "        self.clf = LinearRegression()\n",
    "    \n",
    "    def fit(self):\n",
    "        nd_label = self.df_label.values\n",
    "        nd_label_clean = nd_label + (nd_label-1)\n",
    "        self.clf.fit(self.df_train, nd_label_clean)\n",
    "    \n",
    "    def predict(self, nd_sample):\n",
    "        return self.clf.predict(nd_sample)\n",
    "    \n",
    "\n",
    "class FisherClassificater(Classificater):\n",
    "    \"\"\"\n",
    "    フィッシャー法を用いた分類機です。\n",
    "    \"\"\"\n",
    "    def __init__(self, df_train, df_label):\n",
    "        super().__init__(df_train, df_label)\n",
    "        \n",
    "    def fit(self):\n",
    "        df_train_c1 = self.df_train[self.df_label == 0]\n",
    "        df_train_c2 = self.df_train[self.df_label == 1]\n",
    "        mean_c1 = np.mean(df_train_c1)\n",
    "        mean_c2 = np.mean(df_train_c2)\n",
    "        cov_c1 = CovarianceMatrix.genarate(df_train_c1.values)\n",
    "        cov_c2 = CovarianceMatrix.genarate(df_train_c2.values)\n",
    "        number = df_train_c1.shape[0]  + df_train_c2.shape[0] \n",
    "        p_c1 = df_train_c1.shape[0] / number\n",
    "        p_c2 = df_train_c2.shape[0] / number\n",
    "        \n",
    "        item =  p_c1 * cov_c1 + p_c2 * cov_c2\n",
    "        nd_w = np.linalg.inv(item).dot((mean_c1 - mean_c2))\n",
    "        item =  p_c1 * mean_c1 + p_c2 * mean_c2\n",
    "        w_0 = self.df_train.mean(axis=1) - nd_w.T.dot(item)\n",
    "        self.omega = nd_w, w_0\n",
    "    \n",
    "    def predict(self, nd_sample):\n",
    "        if self.omega is None:\n",
    "            Exception('正常に学習できていません')\n",
    "        y = self.omega[0].dot(nd_sample.T) + self.omega[1]\n",
    "        return y.values\n",
    "\n",
    "\n",
    "class LogisticClassificater(Classificater):\n",
    "    \"\"\"\n",
    "    ロジスティック法を用いた分類機です。\n",
    "    \"\"\"\n",
    "    def __init__(self, df_train, df_label):\n",
    "        super().__init__(df_train, df_label)\n",
    "        self.clf = LogisticRegression()\n",
    "\n",
    "    def fit(self):\n",
    "        self.clf.fit(self.df_train, self.df_label)\n",
    "    \n",
    "    def predict(self, nd_sample):\n",
    "        return self.clf.predict(nd_sample)\n",
    "\n",
    "\n",
    "\"\"\" test \"\"\"\n",
    "df = get_data()\n",
    "SquaresErrorClassificater.init(df.drop('target', axis=1), df['target']).print_shape()\n",
    "FisherClassificater.init(df.drop('target', axis=1), df['target']).print_shape()\n",
    "LogisticClassificater.init(df.drop('target', axis=1), df['target']).print_shape()"
   ]
  },
  {
   "cell_type": "code",
   "execution_count": 90,
   "metadata": {},
   "outputs": [
    {
     "data": {
      "text/plain": [
       "<Figure size 432x288 with 0 Axes>"
      ]
     },
     "metadata": {},
     "output_type": "display_data"
    },
    {
     "data": {
      "image/png": "[encoded data removed]",
      "text/plain": [
       "<Figure size 576x504 with 1 Axes>"
      ]
     },
     "metadata": {},
     "output_type": "display_data"
    }
   ],
   "source": [
    "\"\"\" test \"\"\"\n",
    "df = get_data()\n",
    "ranges, grid = get_grid((-10, 10), (-10, 10), 10)\n",
    "\n",
    "model1 = SquaresErrorClassificater.init(df.drop('target', axis=1), df['target'])\n",
    "model2 = FisherClassificater.init(df.drop('target', axis=1), df['target'])\n",
    "model3 = LogisticClassificater.init(df.drop('target', axis=1), df['target'])\n",
    "\n",
    "model1.fit()\n",
    "result1 = model1.predict(grid.T)\n",
    "model2.fit()\n",
    "result2 = model2.predict(grid.T)\n",
    "model3.fit()\n",
    "result3 = model3.predict(grid.T)\n",
    "\n",
    "df_c1 = df[df['target'] == 0]\n",
    "df_c2 = df[df['target'] == 1]\n",
    "\n",
    "fig = plt.figure()\n",
    "plt.figure(figsize=(8, 7))\n",
    "plt.scatter(df_c1.loc[:,0], df_c1.loc[:,1])\n",
    "plt.scatter(df_c2.loc[:,0], df_c2.loc[:,1])\n",
    "cont = plt.contour(ranges[0], ranges[1], result1.reshape(len(ranges[0]), len(ranges[1])), levels=[0], colors='red')\n",
    "# cont.clabel(fmt='%1.1f', fontsize=14)\n",
    "cont = plt.contour(ranges[0], ranges[1], result2.reshape(len(ranges[0]), len(ranges[1])), levels=[0], colors='blue')\n",
    "# cont.clabel(fmt='%1.1f', fontsize=14)\n",
    "cont = plt.contour(ranges[0], ranges[1], result3.reshape(len(ranges[0]), len(ranges[1])), levels=[0.5], colors='yellow')\n",
    "# cont.clabel(fmt='%1.1f', fontsize=14)"
   ]
  },
  {
   "cell_type": "code",
   "execution_count": null,
   "metadata": {},
   "outputs": [],
   "source": []
  },
  {
   "cell_type": "code",
   "execution_count": null,
   "metadata": {},
   "outputs": [],
   "source": []
  }
 ],
 "metadata": {
  "kernelspec": {
   "display_name": "Python 3",
   "language": "python",
   "name": "python3"
  },
  "language_info": {
   "codemirror_mode": {
    "name": "ipython",
    "version": 3
   },
   "file_extension": ".py",
   "mimetype": "text/x-python",
   "name": "python",
   "nbconvert_exporter": "python",
   "pygments_lexer": "ipython3",
   "version": "3.6.5"
  }
 },
 "nbformat": 4,
 "nbformat_minor": 2
}
