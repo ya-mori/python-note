{
 "cells": [
  {
   "cell_type": "markdown",
   "metadata": {},
   "source": [
    "# 多項近似のバイアスとバリアンスを計算する。\n",
    "\n",
    "- h(x) の代わりに観測値を使ってバイアス、バリアンスを計算する。\n",
    "- xについては平均をとる\n",
    "- 多項式の次元を `p = 1, 3, 6, 10`  の次数ごとに計算をしてもっとも良い次数を求める。\n",
    "- このときパラメータは線形回帰で求める。"
   ]
  },
  {
   "cell_type": "code",
   "execution_count": 1,
   "metadata": {},
   "outputs": [
    {
     "name": "stderr",
     "output_type": "stream",
     "text": [
      "/Users/yohei.moriya/anaconda3/lib/python3.6/importlib/_bootstrap.py:219: RuntimeWarning: numpy.dtype size changed, may indicate binary incompatibility. Expected 96, got 88\n",
      "  return f(*args, **kwds)\n",
      "/Users/yohei.moriya/anaconda3/lib/python3.6/importlib/_bootstrap.py:219: RuntimeWarning: numpy.dtype size changed, may indicate binary incompatibility. Expected 96, got 88\n",
      "  return f(*args, **kwds)\n",
      "/Users/yohei.moriya/anaconda3/lib/python3.6/importlib/_bootstrap.py:219: RuntimeWarning: numpy.dtype size changed, may indicate binary incompatibility. Expected 96, got 88\n",
      "  return f(*args, **kwds)\n",
      "/Users/yohei.moriya/anaconda3/lib/python3.6/importlib/_bootstrap.py:219: RuntimeWarning: numpy.dtype size changed, may indicate binary incompatibility. Expected 96, got 88\n",
      "  return f(*args, **kwds)\n",
      "/Users/yohei.moriya/anaconda3/lib/python3.6/importlib/_bootstrap.py:219: RuntimeWarning: numpy.dtype size changed, may indicate binary incompatibility. Expected 96, got 88\n",
      "  return f(*args, **kwds)\n",
      "/Users/yohei.moriya/anaconda3/lib/python3.6/importlib/_bootstrap.py:219: RuntimeWarning: numpy.dtype size changed, may indicate binary incompatibility. Expected 96, got 88\n",
      "  return f(*args, **kwds)\n"
     ]
    }
   ],
   "source": [
    "import numpy as np\n",
    "import pandas as pd\n",
    "from sklearn.linear_model import LinearRegression\n",
    "import matplotlib.pyplot as plt\n",
    "%matplotlib inline"
   ]
  },
  {
   "cell_type": "code",
   "execution_count": 2,
   "metadata": {},
   "outputs": [
    {
     "data": {
      "image/png": "[encoded data removed]",
      "text/plain": [
       "<Figure size 432x288 with 1 Axes>"
      ]
     },
     "metadata": {},
     "output_type": "display_data"
    }
   ],
   "source": [
    "def get_data(vec_x) -> np.ndarray:\n",
    "    '''\n",
    "    データセットを取得します。\n",
    "    '''\n",
    "    error = np.random.random(vec_x.size) * 0.3\n",
    "#     error = np.random.normal(0, 0.05, 1)\n",
    "    vec_f = 0.5 + 0.4 * np.sin(2*np.pi*vec_x) + error\n",
    "    return vec_f\n",
    "\n",
    "x_size = 50\n",
    "vec_x = np.linspace(0, 1, x_size)\n",
    "vec_f = get_data(vec_x)\n",
    "plt.plot(vec_x, vec_f)\n",
    "plt.show()"
   ]
  },
  {
   "cell_type": "code",
   "execution_count": 3,
   "metadata": {},
   "outputs": [
    {
     "name": "stdout",
     "output_type": "stream",
     "text": [
      "{'key1': [1, 2], 'key2': [3]}\n"
     ]
    }
   ],
   "source": [
    "class Aggregator():\n",
    "    '''\n",
    "    情報を貯蓄して解析する集積器です。\n",
    "    内部でキーに対応したリストを保持しています。\n",
    "    '''\n",
    "    def __init__(self):\n",
    "        self.values = {}\n",
    "\n",
    "    def savings(self, key, value):\n",
    "        '''\n",
    "        値をキーに対応したリストに保存します。\n",
    "        '''\n",
    "        if key not in self.values:\n",
    "            self.values[key] = []\n",
    "        self.values[key].append(value)\n",
    "        pass\n",
    "    \n",
    "    def total(self):\n",
    "        '''\n",
    "        貯蓄した値を集計します。\n",
    "        '''\n",
    "        dict_result = {}\n",
    "        for key in self.values:\n",
    "            info = {}\n",
    "            info['mean'] = np.array(self.values[key]).mean()\n",
    "            #info['var'] = np.array(self.values[key]).var()\n",
    "            dict_result[key] = info\n",
    "        return pd.DataFrame.from_dict(dict_result).T\n",
    "    \n",
    "    def destory(self):\n",
    "        '''\n",
    "        貯蔵した値を破棄します。\n",
    "        '''\n",
    "        self.values = {}\n",
    "\n",
    "memory = Aggregator()\n",
    "memory.savings('key1', 1)\n",
    "memory.savings('key1', 2)\n",
    "memory.savings('key2', 3)\n",
    "print(memory.values)"
   ]
  },
  {
   "cell_type": "code",
   "execution_count": 4,
   "metadata": {},
   "outputs": [
    {
     "name": "stdout",
     "output_type": "stream",
     "text": [
      "(0, 50)\n",
      "(20, 50)\n",
      "20\n"
     ]
    }
   ],
   "source": [
    "class DataSets:\n",
    "    '''\n",
    "    データのコレクションです。\n",
    "    :param vec_x  xが取る値\n",
    "    :param nd_y  yが取る値のN個の集まり (N × x.size)\n",
    "    :param nd_g　yによって与えられた予測の値 (N × x.size)\n",
    "    '''\n",
    "\n",
    "    def __init__(self, vec_x):\n",
    "        self.x = vec_x\n",
    "        self.nd_y = np.empty((0, vec_x.size))\n",
    "        self.nd_h = np.empty((0, vec_x.size))\n",
    "        \n",
    "    def add(self, vec_y):\n",
    "        '''\n",
    "        予測値を追加します。\n",
    "        '''\n",
    "        self.nd_y = np.append(self.nd_y, vec_y.reshape(1, vec_y.size), axis=0)\n",
    "        #self.nd_y.extend(vec_y)\n",
    "    \n",
    "    def get_size(self):\n",
    "        '''\n",
    "        データの個数を取得します。\n",
    "        '''\n",
    "        return self.nd_y.shape[0]\n",
    "    \n",
    "    def save(self, vec_h):\n",
    "        '''\n",
    "        　予測した値を保存します。\n",
    "        '''\n",
    "        self.nd_h = np.append(self.nd_h, vec_h.reshape(1, vec_h.size), axis=0)\n",
    "\n",
    "    def destory(self):\n",
    "        '''\n",
    "        予測した値を破棄します。\n",
    "        '''\n",
    "        self.nd_h = np.empty((0, self.x.size))\n",
    "\n",
    "x_size = 50\n",
    "vec_x = np.linspace(0, 1, x_size)\n",
    "data = DataSets(vec_x)\n",
    "print(data.nd_y.shape)\n",
    "for i in range(20):\n",
    "    data.add(get_data(vec_x))\n",
    "print(data.nd_y.shape)\n",
    "print(data.get_size())"
   ]
  },
  {
   "cell_type": "code",
   "execution_count": 5,
   "metadata": {},
   "outputs": [
    {
     "data": {
      "image/png": "[encoded data removed]",
      "text/plain": [
       "<Figure size 432x288 with 1 Axes>"
      ]
     },
     "metadata": {},
     "output_type": "display_data"
    },
    {
     "data": {
      "text/plain": [
       "(10, 50)"
      ]
     },
     "execution_count": 5,
     "metadata": {},
     "output_type": "execute_result"
    }
   ],
   "source": [
    "def fit(train_x, train_y, p):\n",
    "    '''\n",
    "    yについて、xを用いて次数pの多項式近似をします。\n",
    "    '''\n",
    "    vec_w = np.polyfit(train_x, train_y, p)\n",
    "    vec_h = np.poly1d(vec_w)(train_x)\n",
    "    return vec_h\n",
    "\n",
    "\n",
    "x_size = 50\n",
    "vec_x = np.linspace(0, 1, x_size)\n",
    "data = DataSets(vec_x)\n",
    "for i in range(10):\n",
    "    data.add(get_data(vec_x))\n",
    "\n",
    "for y in data.nd_y:\n",
    "    vec_h = fit(data.x, y, 3)\n",
    "    data.save(vec_h)\n",
    "    plt.plot(vec_x, vec_h)\n",
    "\n",
    "# plt.plot(vec_x, test_y)\n",
    "plt.show()\n",
    "data.nd_y.shape"
   ]
  },
  {
   "cell_type": "code",
   "execution_count": 6,
   "metadata": {},
   "outputs": [],
   "source": [
    "def cal_bias(vec_h, vec_t):\n",
    "    '''\n",
    "    バイアスを計算します\n",
    "    '''\n",
    "    mean_h = vec_h.mean(axis=0)\n",
    "    item =  mean_h - vec_t.mean(axis=0)\n",
    "    result = (item ** 2)\n",
    "    return result\n",
    "\n",
    "def cal_variance(vec_h):\n",
    "    '''\n",
    "    バリアンスを計算します\n",
    "    '''\n",
    "    mean_h = vec_h.mean(axis=0)\n",
    "    item = vec_h - mean_h\n",
    "    result = np.mean(item ** 2)\n",
    "    return result\n"
   ]
  },
  {
   "cell_type": "code",
   "execution_count": 9,
   "metadata": {},
   "outputs": [
    {
     "data": {
      "text/html": [
       "<div>\n",
       "<style scoped>\n",
       "    .dataframe tbody tr th:only-of-type {\n",
       "        vertical-align: middle;\n",
       "    }\n",
       "\n",
       "    .dataframe tbody tr th {\n",
       "        vertical-align: top;\n",
       "    }\n",
       "\n",
       "    .dataframe thead th {\n",
       "        text-align: right;\n",
       "    }\n",
       "</style>\n",
       "<table border=\"1\" class=\"dataframe\">\n",
       "  <thead>\n",
       "    <tr style=\"text-align: right;\">\n",
       "      <th></th>\n",
       "      <th>mean</th>\n",
       "    </tr>\n",
       "  </thead>\n",
       "  <tbody>\n",
       "    <tr>\n",
       "      <th>3#bias</th>\n",
       "      <td>0.001039</td>\n",
       "    </tr>\n",
       "    <tr>\n",
       "      <th>3#variance</th>\n",
       "      <td>0.000484</td>\n",
       "    </tr>\n",
       "  </tbody>\n",
       "</table>\n",
       "</div>"
      ],
      "text/plain": [
       "                mean\n",
       "3#bias      0.001039\n",
       "3#variance  0.000484"
      ]
     },
     "execution_count": 9,
     "metadata": {},
     "output_type": "execute_result"
    }
   ],
   "source": [
    "def run(data, p, memory):\n",
    "    '''\n",
    "    渡された次数で、バイアスとバリアンスを計算してメモリーに保存します。\n",
    "    '''\n",
    "    for y in data.nd_y:\n",
    "        vec_h = fit(data.x, y, p)\n",
    "        data.save(vec_h)\n",
    "    vec_h = data.nd_h\n",
    "    vec_y = data.nd_y\n",
    "    memory.savings(str(p)+'#bias', cal_bias(vec_h, vec_y))\n",
    "    memory.savings(str(p)+'#variance', cal_variance(vec_h))\n",
    "    return memory\n",
    "\n",
    "\n",
    "# test\n",
    "x_size = 50\n",
    "vec_x = np.linspace(0, 1, x_size)\n",
    "data = DataSets(vec_x)\n",
    "for i in range(20):\n",
    "    data.add(get_data(vec_x))\n",
    "\n",
    "memory = Aggregator()\n",
    "memory = run(data, 3, memory)\n",
    "memory.total()"
   ]
  },
  {
   "cell_type": "code",
   "execution_count": 8,
   "metadata": {},
   "outputs": [
    {
     "data": {
      "text/html": [
       "<div>\n",
       "<style scoped>\n",
       "    .dataframe tbody tr th:only-of-type {\n",
       "        vertical-align: middle;\n",
       "    }\n",
       "\n",
       "    .dataframe tbody tr th {\n",
       "        vertical-align: top;\n",
       "    }\n",
       "\n",
       "    .dataframe thead th {\n",
       "        text-align: right;\n",
       "    }\n",
       "</style>\n",
       "<table border=\"1\" class=\"dataframe\">\n",
       "  <thead>\n",
       "    <tr style=\"text-align: right;\">\n",
       "      <th></th>\n",
       "      <th>mean</th>\n",
       "    </tr>\n",
       "  </thead>\n",
       "  <tbody>\n",
       "    <tr>\n",
       "      <th>1#bias</th>\n",
       "      <td>0.034670</td>\n",
       "    </tr>\n",
       "    <tr>\n",
       "      <th>3#bias</th>\n",
       "      <td>0.000902</td>\n",
       "    </tr>\n",
       "    <tr>\n",
       "      <th>6#bias</th>\n",
       "      <td>0.000052</td>\n",
       "    </tr>\n",
       "    <tr>\n",
       "      <th>10#bias</th>\n",
       "      <td>0.000046</td>\n",
       "    </tr>\n",
       "  </tbody>\n",
       "</table>\n",
       "</div>"
      ],
      "text/plain": [
       "             mean\n",
       "1#bias   0.034670\n",
       "3#bias   0.000902\n",
       "6#bias   0.000052\n",
       "10#bias  0.000046"
      ]
     },
     "metadata": {},
     "output_type": "display_data"
    },
    {
     "data": {
      "text/html": [
       "<div>\n",
       "<style scoped>\n",
       "    .dataframe tbody tr th:only-of-type {\n",
       "        vertical-align: middle;\n",
       "    }\n",
       "\n",
       "    .dataframe tbody tr th {\n",
       "        vertical-align: top;\n",
       "    }\n",
       "\n",
       "    .dataframe thead th {\n",
       "        text-align: right;\n",
       "    }\n",
       "</style>\n",
       "<table border=\"1\" class=\"dataframe\">\n",
       "  <thead>\n",
       "    <tr style=\"text-align: right;\">\n",
       "      <th></th>\n",
       "      <th>mean</th>\n",
       "    </tr>\n",
       "  </thead>\n",
       "  <tbody>\n",
       "    <tr>\n",
       "      <th>1#variance</th>\n",
       "      <td>0.000259</td>\n",
       "    </tr>\n",
       "    <tr>\n",
       "      <th>3#variance</th>\n",
       "      <td>0.000554</td>\n",
       "    </tr>\n",
       "    <tr>\n",
       "      <th>6#variance</th>\n",
       "      <td>0.001076</td>\n",
       "    </tr>\n",
       "    <tr>\n",
       "      <th>10#variance</th>\n",
       "      <td>0.001647</td>\n",
       "    </tr>\n",
       "  </tbody>\n",
       "</table>\n",
       "</div>"
      ],
      "text/plain": [
       "                 mean\n",
       "1#variance   0.000259\n",
       "3#variance   0.000554\n",
       "6#variance   0.001076\n",
       "10#variance  0.001647"
      ]
     },
     "metadata": {},
     "output_type": "display_data"
    },
    {
     "data": {
      "image/png": "[encoded data removed]",
      "text/plain": [
       "<Figure size 432x288 with 1 Axes>"
      ]
     },
     "metadata": {},
     "output_type": "display_data"
    },
    {
     "data": {
      "image/png": "[encoded data removed]",
      "text/plain": [
       "<Figure size 432x288 with 1 Axes>"
      ]
     },
     "metadata": {},
     "output_type": "display_data"
    }
   ],
   "source": [
    "def main():\n",
    "    memory = Aggregator()\n",
    "    list_p = [1, 3, 6, 10]\n",
    "    \n",
    "    x_size = 50\n",
    "    vec_x = np.linspace(0, 1, x_size)\n",
    "    data = DataSets(vec_x)\n",
    "    for i in range(100):\n",
    "        data.add(get_data(vec_x))\n",
    "    for p in list_p:\n",
    "        memory = run(data, p, memory)\n",
    "        data.destory()\n",
    "    df_total = memory.total()\n",
    "    df_total_bias = df_total[df_total.index.str.contains('bias')]\n",
    "    df_total_var = df_total[df_total.index.str.contains('var')]\n",
    "    display(df_total_bias)\n",
    "    display(df_total_var)\n",
    "    \n",
    "    plt.plot(df_total_bias.index, df_total_bias['mean'])\n",
    "    plt.show()\n",
    "    plt.plot(df_total_var.index, df_total_var['mean'])\n",
    "#     plt.ylim=(60.5, 59.5)\n",
    "    plt.show()\n",
    "    \n",
    "main()"
   ]
  },
  {
   "cell_type": "code",
   "execution_count": null,
   "metadata": {},
   "outputs": [],
   "source": []
  }
 ],
 "metadata": {
  "kernelspec": {
   "display_name": "Python 3",
   "language": "python",
   "name": "python3"
  },
  "language_info": {
   "codemirror_mode": {
    "name": "ipython",
    "version": 3
   },
   "file_extension": ".py",
   "mimetype": "text/x-python",
   "name": "python",
   "nbconvert_exporter": "python",
   "pygments_lexer": "ipython3",
   "version": "3.6.5"
  }
 },
 "nbformat": 4,
 "nbformat_minor": 2
}
