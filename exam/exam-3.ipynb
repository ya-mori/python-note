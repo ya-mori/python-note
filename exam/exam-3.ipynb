{
 "cells": [
  {
   "cell_type": "code",
   "execution_count": 4,
   "metadata": {},
   "outputs": [
    {
     "name": "stderr",
     "output_type": "stream",
     "text": [
      "/Users/yohei.moriya/anaconda3/lib/python3.6/importlib/_bootstrap.py:219: RuntimeWarning: numpy.dtype size changed, may indicate binary incompatibility. Expected 96, got 88\n",
      "  return f(*args, **kwds)\n",
      "/Users/yohei.moriya/anaconda3/lib/python3.6/importlib/_bootstrap.py:219: RuntimeWarning: numpy.dtype size changed, may indicate binary incompatibility. Expected 96, got 88\n",
      "  return f(*args, **kwds)\n",
      "/Users/yohei.moriya/anaconda3/lib/python3.6/importlib/_bootstrap.py:219: RuntimeWarning: numpy.dtype size changed, may indicate binary incompatibility. Expected 96, got 88\n",
      "  return f(*args, **kwds)\n",
      "/Users/yohei.moriya/anaconda3/lib/python3.6/importlib/_bootstrap.py:219: RuntimeWarning: numpy.dtype size changed, may indicate binary incompatibility. Expected 96, got 88\n",
      "  return f(*args, **kwds)\n"
     ]
    },
    {
     "name": "stdout",
     "output_type": "stream",
     "text": [
      "load success rakus_ml_training\n"
     ]
    }
   ],
   "source": [
    "import matplotlib.pyplot as plt\n",
    "import pandas as pd\n",
    "import numpy as np\n",
    "import sys\n",
    "sys.path.append(\"/Users/yohei.moriya/src/\")\n",
    "import rakus_ml_training as rmt"
   ]
  },
  {
   "cell_type": "code",
   "execution_count": null,
   "metadata": {},
   "outputs": [],
   "source": [
    "def softmax(nd_x: pd.DataFrame):\n",
    "    \"\"\"\n",
    "    ソフトマックス関数に入力した値を計算します。\n",
    "\n",
    "    :param nd_x:\n",
    "    :return:\n",
    "    \"\"\"\n",
    "    return np.exp(nd_x) / np.sum(np.exp(nd_x))\n",
    "\n",
    "df = pd.DataFrame([10, 20, 30])\n",
    "\n",
    "df_s = softmax(df.values)\n",
    "print(df_s)\n",
    "print(df_s.sum())\n"
   ]
  },
  {
   "cell_type": "code",
   "execution_count": null,
   "metadata": {},
   "outputs": [],
   "source": [
    "def onehot_to_flat(df_hot: pd.DataFrame):\n",
    "    \"\"\"\n",
    "    one-hot で表現されているを１次元のデータに圧縮します。\n",
    "    :return:\n",
    "    \"\"\"\n",
    "    \n",
    "    return \n",
    "    \n",
    "    \n",
    "df = pd.DataFrame([0,0,3,0,1,1,3,1,2])\n",
    "df.values.flatten()\n",
    "df_1hot = pd.get_dummies(df.values.flatten())\n",
    "display(df_1hot)\n",
    "# onehot_to_flat(df_1hot)\n",
    "\n",
    "df_1hot.max()\n",
    "df_1hot.idxmax(axis=1)\n",
    "\n",
    "df = df_1hot.idxmax(axis=1)\n",
    "df.columns = ['target']\n",
    "display(df)"
   ]
  },
  {
   "cell_type": "code",
   "execution_count": null,
   "metadata": {},
   "outputs": [],
   "source": [
    "nd_a = np.random.random((5,3))\n",
    "df_a = pd.DataFrame(nd_a)\n",
    "display(df_a)\n",
    "nd_b = np.random.random((5,9))\n",
    "df_b = pd.DataFrame(nd_b)\n",
    "display(df_b)\n",
    "\n",
    "ans = df_b.mul(df_a, axis=1)\n",
    "ans = df_b.applymap(lambda s: s * df_a)\n",
    "\n",
    "display(ans)"
   ]
  },
  {
   "cell_type": "code",
   "execution_count": null,
   "metadata": {},
   "outputs": [],
   "source": [
    "df = rmt.iris.get_train_data()\n",
    "df = norm(df)\n",
    "for col in df.sort_values('target').drop('target', axis=1).columns:\n",
    "    df.plot.scatter(x='target', y=col)\n",
    "\n",
    "# df.plot(x='target', y=df.columns)"
   ]
  },
  {
   "cell_type": "code",
   "execution_count": null,
   "metadata": {},
   "outputs": [],
   "source": [
    "def norm(df_origin):\n",
    "    \"\"\"\n",
    "    行列を正規化します。\n",
    "    \"\"\"\n",
    "    vec_mean = df_origin.mean()\n",
    "    vec_var = df_origin.var()\n",
    "    nd_train = df_origin.values\n",
    "    nd_norm = (nd_train - vec_mean.values) / np.sqrt(vec_var).values\n",
    "    return pd.DataFrame(data=nd_norm, columns=df_origin.columns, index=df_origin.index)\n",
    "\n",
    "df = norm(df)\n",
    "df_new = pd.DataFrame()\n",
    "df_new['sepal'] = df['sepal length (cm)'] * df['petal width (cm)']\n",
    "df_new['petal'] = df['sepal width (cm)'] * df['petal length (cm)']\n",
    "df_new['target'] = df['target']\n",
    "\n",
    "for col in df_new.sort_values('target').drop('target', axis=1).columns:\n",
    "    df_new.plot.scatter(x='target', y=col)"
   ]
  },
  {
   "cell_type": "code",
   "execution_count": 13,
   "metadata": {},
   "outputs": [
    {
     "data": {
      "text/html": [
       "<div>\n",
       "<style scoped>\n",
       "    .dataframe tbody tr th:only-of-type {\n",
       "        vertical-align: middle;\n",
       "    }\n",
       "\n",
       "    .dataframe tbody tr th {\n",
       "        vertical-align: top;\n",
       "    }\n",
       "\n",
       "    .dataframe thead th {\n",
       "        text-align: right;\n",
       "    }\n",
       "</style>\n",
       "<table border=\"1\" class=\"dataframe\">\n",
       "  <thead>\n",
       "    <tr style=\"text-align: right;\">\n",
       "      <th></th>\n",
       "      <th>sepal length (cm)</th>\n",
       "      <th>sepal width (cm)</th>\n",
       "      <th>petal length (cm)</th>\n",
       "      <th>petal width (cm)</th>\n",
       "      <th>target</th>\n",
       "    </tr>\n",
       "  </thead>\n",
       "  <tbody>\n",
       "    <tr>\n",
       "      <th>0</th>\n",
       "      <td>5.1</td>\n",
       "      <td>3.5</td>\n",
       "      <td>1.4</td>\n",
       "      <td>0.2</td>\n",
       "      <td>0</td>\n",
       "    </tr>\n",
       "    <tr>\n",
       "      <th>1</th>\n",
       "      <td>4.9</td>\n",
       "      <td>3.0</td>\n",
       "      <td>1.4</td>\n",
       "      <td>0.2</td>\n",
       "      <td>0</td>\n",
       "    </tr>\n",
       "    <tr>\n",
       "      <th>2</th>\n",
       "      <td>4.7</td>\n",
       "      <td>3.2</td>\n",
       "      <td>1.3</td>\n",
       "      <td>0.2</td>\n",
       "      <td>0</td>\n",
       "    </tr>\n",
       "    <tr>\n",
       "      <th>3</th>\n",
       "      <td>4.6</td>\n",
       "      <td>3.1</td>\n",
       "      <td>1.5</td>\n",
       "      <td>0.2</td>\n",
       "      <td>0</td>\n",
       "    </tr>\n",
       "    <tr>\n",
       "      <th>4</th>\n",
       "      <td>5.0</td>\n",
       "      <td>3.6</td>\n",
       "      <td>1.4</td>\n",
       "      <td>0.2</td>\n",
       "      <td>0</td>\n",
       "    </tr>\n",
       "  </tbody>\n",
       "</table>\n",
       "</div>"
      ],
      "text/plain": [
       "   sepal length (cm)  sepal width (cm)  petal length (cm)  petal width (cm)  \\\n",
       "0                5.1               3.5                1.4               0.2   \n",
       "1                4.9               3.0                1.4               0.2   \n",
       "2                4.7               3.2                1.3               0.2   \n",
       "3                4.6               3.1                1.5               0.2   \n",
       "4                5.0               3.6                1.4               0.2   \n",
       "\n",
       "   target  \n",
       "0       0  \n",
       "1       0  \n",
       "2       0  \n",
       "3       0  \n",
       "4       0  "
      ]
     },
     "metadata": {},
     "output_type": "display_data"
    },
    {
     "data": {
      "text/plain": [
       "array([[2.55, 1.75, 0.7 , 0.1 , 0.  ],\n",
       "       [2.45, 1.5 , 0.7 , 0.1 , 0.  ],\n",
       "       [2.35, 1.6 , 0.65, 0.1 , 0.  ],\n",
       "       [2.3 , 1.55, 0.75, 0.1 , 0.  ],\n",
       "       [2.5 , 1.8 , 0.7 , 0.1 , 0.  ],\n",
       "       [2.3 , 1.7 , 0.7 , 0.15, 0.  ],\n",
       "       [2.5 , 1.7 , 0.75, 0.1 , 0.  ],\n",
       "       [2.2 , 1.45, 0.7 , 0.1 , 0.  ],\n",
       "       [2.45, 1.55, 0.75, 0.05, 0.  ],\n",
       "       [2.7 , 1.85, 0.75, 0.1 , 0.  ],\n",
       "       [2.4 , 1.7 , 0.8 , 0.1 , 0.  ],\n",
       "       [2.4 , 1.5 , 0.7 , 0.05, 0.  ],\n",
       "       [2.15, 1.5 , 0.55, 0.05, 0.  ],\n",
       "       [2.85, 2.2 , 0.75, 0.2 , 0.  ],\n",
       "       [2.55, 1.75, 0.7 , 0.15, 0.  ],\n",
       "       [2.85, 1.9 , 0.85, 0.15, 0.  ],\n",
       "       [2.7 , 1.7 , 0.85, 0.1 , 0.  ],\n",
       "       [2.55, 1.85, 0.75, 0.2 , 0.  ],\n",
       "       [2.3 , 1.8 , 0.5 , 0.1 , 0.  ],\n",
       "       [2.55, 1.65, 0.85, 0.25, 0.  ],\n",
       "       [2.4 , 1.7 , 0.95, 0.1 , 0.  ],\n",
       "       [2.5 , 1.5 , 0.8 , 0.1 , 0.  ],\n",
       "       [2.5 , 1.7 , 0.8 , 0.2 , 0.  ],\n",
       "       [2.6 , 1.75, 0.75, 0.1 , 0.  ],\n",
       "       [2.6 , 1.7 , 0.7 , 0.1 , 0.  ],\n",
       "       [2.4 , 1.55, 0.8 , 0.1 , 0.  ],\n",
       "       [2.6 , 2.05, 0.75, 0.05, 0.  ],\n",
       "       [2.45, 1.55, 0.75, 0.05, 0.  ],\n",
       "       [2.75, 1.75, 0.65, 0.1 , 0.  ],\n",
       "       [2.45, 1.55, 0.75, 0.05, 0.  ],\n",
       "       [2.2 , 1.5 , 0.65, 0.1 , 0.  ],\n",
       "       [2.55, 1.7 , 0.75, 0.1 , 0.  ],\n",
       "       [2.25, 1.15, 0.65, 0.15, 0.  ],\n",
       "       [2.5 , 1.75, 0.8 , 0.3 , 0.  ],\n",
       "       [2.4 , 1.5 , 0.7 , 0.15, 0.  ],\n",
       "       [2.55, 1.9 , 0.8 , 0.1 , 0.  ],\n",
       "       [2.3 , 1.6 , 0.7 , 0.1 , 0.  ],\n",
       "       [2.65, 1.85, 0.75, 0.1 , 0.  ],\n",
       "       [2.5 , 1.65, 0.7 , 0.1 , 0.  ],\n",
       "       [3.5 , 1.6 , 2.35, 0.7 , 0.5 ],\n",
       "       [3.45, 1.55, 2.45, 0.75, 0.5 ],\n",
       "       [2.75, 1.15, 2.  , 0.65, 0.5 ],\n",
       "       [3.25, 1.4 , 2.3 , 0.75, 0.5 ],\n",
       "       [2.85, 1.4 , 2.25, 0.65, 0.5 ],\n",
       "       [2.45, 1.2 , 1.65, 0.5 , 0.5 ],\n",
       "       [3.3 , 1.45, 2.3 , 0.65, 0.5 ],\n",
       "       [2.6 , 1.35, 1.95, 0.7 , 0.5 ],\n",
       "       [2.5 , 1.  , 1.75, 0.5 , 0.5 ],\n",
       "       [2.95, 1.5 , 2.1 , 0.75, 0.5 ],\n",
       "       [3.  , 1.1 , 2.  , 0.5 , 0.5 ],\n",
       "       [3.05, 1.45, 2.35, 0.7 , 0.5 ],\n",
       "       [2.8 , 1.45, 1.8 , 0.65, 0.5 ],\n",
       "       [3.35, 1.55, 2.2 , 0.7 , 0.5 ],\n",
       "       [2.9 , 1.35, 2.05, 0.5 , 0.5 ],\n",
       "       [3.1 , 1.1 , 2.25, 0.75, 0.5 ],\n",
       "       [2.8 , 1.25, 1.95, 0.55, 0.5 ],\n",
       "       [2.95, 1.6 , 2.4 , 0.9 , 0.5 ],\n",
       "       [3.05, 1.4 , 2.  , 0.65, 0.5 ],\n",
       "       [3.15, 1.25, 2.45, 0.75, 0.5 ],\n",
       "       [3.2 , 1.45, 2.15, 0.65, 0.5 ],\n",
       "       [3.4 , 1.4 , 2.4 , 0.7 , 0.5 ],\n",
       "       [2.85, 1.3 , 1.75, 0.5 , 0.5 ],\n",
       "       [2.75, 1.2 , 1.9 , 0.55, 0.5 ],\n",
       "       [2.75, 1.2 , 1.85, 0.5 , 0.5 ],\n",
       "       [2.9 , 1.35, 1.95, 0.6 , 0.5 ],\n",
       "       [3.  , 1.35, 2.55, 0.8 , 0.5 ],\n",
       "       [3.  , 1.7 , 2.25, 0.8 , 0.5 ],\n",
       "       [3.35, 1.55, 2.35, 0.75, 0.5 ],\n",
       "       [3.15, 1.15, 2.2 , 0.65, 0.5 ],\n",
       "       [2.8 , 1.5 , 2.05, 0.65, 0.5 ],\n",
       "       [2.75, 1.25, 2.  , 0.65, 0.5 ],\n",
       "       [3.05, 1.5 , 2.3 , 0.7 , 0.5 ],\n",
       "       [2.5 , 1.15, 1.65, 0.5 , 0.5 ],\n",
       "       [2.85, 1.5 , 2.1 , 0.6 , 0.5 ],\n",
       "       [2.85, 1.45, 2.1 , 0.65, 0.5 ],\n",
       "       [3.1 , 1.45, 2.15, 0.65, 0.5 ],\n",
       "       [3.15, 1.65, 3.  , 1.25, 1.  ],\n",
       "       [2.9 , 1.35, 2.55, 0.95, 1.  ],\n",
       "       [3.15, 1.45, 2.8 , 0.9 , 1.  ],\n",
       "       [3.25, 1.5 , 2.9 , 1.1 , 1.  ],\n",
       "       [3.8 , 1.5 , 3.3 , 1.05, 1.  ],\n",
       "       [2.45, 1.25, 2.25, 0.85, 1.  ],\n",
       "       [3.65, 1.45, 3.15, 0.9 , 1.  ],\n",
       "       [3.35, 1.25, 2.9 , 0.9 , 1.  ],\n",
       "       [3.6 , 1.8 , 3.05, 1.25, 1.  ],\n",
       "       [3.25, 1.6 , 2.55, 1.  , 1.  ],\n",
       "       [3.2 , 1.35, 2.65, 0.95, 1.  ],\n",
       "       [3.4 , 1.5 , 2.75, 1.05, 1.  ],\n",
       "       [2.85, 1.25, 2.5 , 1.  , 1.  ],\n",
       "       [2.9 , 1.4 , 2.55, 1.2 , 1.  ],\n",
       "       [3.2 , 1.6 , 2.65, 1.15, 1.  ],\n",
       "       [3.25, 1.5 , 2.75, 0.9 , 1.  ],\n",
       "       [3.85, 1.9 , 3.35, 1.1 , 1.  ],\n",
       "       [3.85, 1.3 , 3.45, 1.15, 1.  ],\n",
       "       [3.  , 1.1 , 2.5 , 0.75, 1.  ],\n",
       "       [2.8 , 1.4 , 2.45, 1.  , 1.  ],\n",
       "       [3.85, 1.4 , 3.35, 1.  , 1.  ],\n",
       "       [3.15, 1.35, 2.45, 0.9 , 1.  ],\n",
       "       [3.35, 1.65, 2.85, 1.05, 1.  ],\n",
       "       [3.1 , 1.4 , 2.4 , 0.9 , 1.  ],\n",
       "       [3.05, 1.5 , 2.45, 0.9 , 1.  ],\n",
       "       [3.2 , 1.4 , 2.8 , 1.05, 1.  ],\n",
       "       [3.6 , 1.5 , 2.9 , 0.8 , 1.  ],\n",
       "       [3.7 , 1.4 , 3.05, 0.95, 1.  ],\n",
       "       [3.2 , 1.4 , 2.8 , 1.1 , 1.  ],\n",
       "       [3.15, 1.4 , 2.55, 0.75, 1.  ],\n",
       "       [3.05, 1.3 , 2.8 , 0.7 , 1.  ],\n",
       "       [3.85, 1.5 , 3.05, 1.15, 1.  ],\n",
       "       [3.15, 1.7 , 2.8 , 1.2 , 1.  ],\n",
       "       [3.2 , 1.55, 2.75, 0.9 , 1.  ],\n",
       "       [3.  , 1.5 , 2.4 , 0.9 , 1.  ],\n",
       "       [3.45, 1.55, 2.7 , 1.05, 1.  ],\n",
       "       [3.35, 1.55, 2.8 , 1.2 , 1.  ],\n",
       "       [2.9 , 1.35, 2.55, 0.95, 1.  ],\n",
       "       [3.4 , 1.6 , 2.95, 1.15, 1.  ],\n",
       "       [3.35, 1.65, 2.85, 1.25, 1.  ],\n",
       "       [3.35, 1.5 , 2.6 , 1.15, 1.  ],\n",
       "       [3.25, 1.5 , 2.6 , 1.  , 1.  ],\n",
       "       [3.1 , 1.7 , 2.7 , 1.15, 1.  ],\n",
       "       [2.95, 1.5 , 2.55, 0.9 , 1.  ]])"
      ]
     },
     "metadata": {},
     "output_type": "display_data"
    }
   ],
   "source": [
    "df_train_origin = rmt.iris.get_train_data()\n",
    "display(df_train_origin.head())\n",
    "# df_train_ = df_train_origin.values.apply_along_axis(lambda series: series / 2)\n",
    "nd_train = np.apply_along_axis(lambda series: series / 2, 1, df_train_origin)\n",
    "display(nd_train)"
   ]
  },
  {
   "cell_type": "code",
   "execution_count": 116,
   "metadata": {},
   "outputs": [
    {
     "name": "stdout",
     "output_type": "stream",
     "text": [
      "(5, 9)\n"
     ]
    },
    {
     "data": {
      "text/plain": [
       "array([[2., 2., 2., 2., 2., 2., 2., 2., 2.],\n",
       "       [2., 2., 2., 2., 2., 2., 2., 2., 2.],\n",
       "       [2., 2., 2., 2., 2., 2., 2., 2., 2.],\n",
       "       [2., 2., 2., 2., 2., 2., 2., 2., 2.],\n",
       "       [2., 2., 2., 2., 2., 2., 2., 2., 2.]])"
      ]
     },
     "execution_count": 116,
     "metadata": {},
     "output_type": "execute_result"
    }
   ],
   "source": [
    "a = np.zeros((5, 3)) + 1\n",
    "b = np.zeros((5, 9)) + 2\n",
    "# X,Y = np.meshgrid(a, b)\n",
    "\n",
    "a_ = np.tile(a,(3))\n",
    "\n",
    "print(a_.shape)\n",
    "\n",
    "a_ *  b"
   ]
  },
  {
   "cell_type": "code",
   "execution_count": 132,
   "metadata": {},
   "outputs": [
    {
     "name": "stdout",
     "output_type": "stream",
     "text": [
      "(3, 120, 9)\n"
     ]
    },
    {
     "ename": "ValueError",
     "evalue": "cannot reshape array of size 3240 into shape (120,9)",
     "output_type": "error",
     "traceback": [
      "\u001b[0;31m---------------------------------------------------------------------------\u001b[0m",
      "\u001b[0;31mValueError\u001b[0m                                Traceback (most recent call last)",
      "\u001b[0;32m<ipython-input-132-abf6ad6e1447>\u001b[0m in \u001b[0;36m<module>\u001b[0;34m()\u001b[0m\n\u001b[1;32m     12\u001b[0m \u001b[0mans\u001b[0m \u001b[0;34m=\u001b[0m \u001b[0ma_\u001b[0m \u001b[0;34m*\u001b[0m \u001b[0mb\u001b[0m\u001b[0;34m\u001b[0m\u001b[0m\n\u001b[1;32m     13\u001b[0m \u001b[0mprint\u001b[0m\u001b[0;34m(\u001b[0m\u001b[0mans\u001b[0m\u001b[0;34m.\u001b[0m\u001b[0mshape\u001b[0m\u001b[0;34m)\u001b[0m\u001b[0;34m\u001b[0m\u001b[0m\n\u001b[0;32m---> 14\u001b[0;31m \u001b[0mprint\u001b[0m\u001b[0;34m(\u001b[0m\u001b[0mans\u001b[0m\u001b[0;34m.\u001b[0m\u001b[0mreshape\u001b[0m\u001b[0;34m(\u001b[0m\u001b[0;36m120\u001b[0m\u001b[0;34m,\u001b[0m \u001b[0;36m9\u001b[0m\u001b[0;34m)\u001b[0m\u001b[0;34m)\u001b[0m\u001b[0;34m\u001b[0m\u001b[0m\n\u001b[0m",
      "\u001b[0;31mValueError\u001b[0m: cannot reshape array of size 3240 into shape (120,9)"
     ]
    }
   ],
   "source": [
    "a = np.zeros((120, 3)) + 1\n",
    "b = np.zeros((120, 9)) + 2\n",
    "\n",
    "a_ = a.reshape(3, 120, 1)\n",
    "a_ = np.tile(a_,(9))\n",
    "# a_ = a.reshape(5, 1, 3)\n",
    "# a_ = np.tile(a_,(3))\n",
    "\n",
    "# print(f\"a: {a.shape} \\n {a}\")\n",
    "# print(f\"a_: {a_.shape} \\n {a_}\")\n",
    "\n",
    "ans = a_ * b\n",
    "print(ans.shape)\n",
    "print(ans.reshape(120, 9))\n"
   ]
  },
  {
   "cell_type": "code",
   "execution_count": 122,
   "metadata": {},
   "outputs": [
    {
     "name": "stdout",
     "output_type": "stream",
     "text": [
      "(3, 5, 1)\n",
      "(3, 5, 1) (5, 9)\n",
      "[[[0.14048772 0.26519139 0.19884566 0.04678123 0.28744037 0.48768258\n",
      "   0.28646805 0.03496249 0.09241412]\n",
      "  [0.51609163 0.17664161 0.0958083  0.24605588 0.26215638 0.1866679\n",
      "   0.44696241 0.37859024 0.2292308 ]\n",
      "  [0.3271024  0.17955957 0.26249196 0.41910434 0.29914584 0.27828214\n",
      "   0.01103508 0.34544089 0.08652406]\n",
      "  [0.10599075 0.28370579 0.08604944 0.31304221 0.38529323 0.38326737\n",
      "   0.09009036 0.03870863 0.02475729]\n",
      "  [0.10341412 0.17487969 0.1279203  0.03409516 0.08881696 0.1708615\n",
      "   0.18287302 0.18949844 0.15394906]]\n",
      "\n",
      " [[0.16572421 0.31282901 0.23456528 0.05518477 0.33907469 0.5752874\n",
      "   0.33792771 0.04124298 0.10901492]\n",
      "  [0.73370564 0.2511239  0.1362066  0.34980723 0.37269664 0.26537785\n",
      "   0.63542755 0.53822572 0.32588773]\n",
      "  [0.4166021  0.22868953 0.33431336 0.53377704 0.38099625 0.35442395\n",
      "   0.01405442 0.43995826 0.11019822]\n",
      "  [0.11517206 0.30828141 0.09350336 0.34015906 0.41866872 0.41646737\n",
      "   0.09789431 0.04206171 0.02690185]\n",
      "  [0.27121215 0.45863658 0.33548166 0.0894174  0.23292989 0.44809855\n",
      "   0.47959975 0.49697549 0.40374427]]\n",
      "\n",
      " [[0.11896174 0.22455791 0.16837789 0.03961326 0.24339783 0.41295829\n",
      "   0.2425745  0.02960543 0.07825413]\n",
      "  [0.57234059 0.19589382 0.10625047 0.27287357 0.29072887 0.20701288\n",
      "   0.49567696 0.41985288 0.25421472]\n",
      "  [0.30182745 0.16568514 0.24220941 0.38672048 0.27603107 0.25677949\n",
      "   0.0101824  0.31874894 0.07983841]\n",
      "  [0.20382637 0.54558269 0.16547807 0.60199834 0.74094122 0.73704538\n",
      "   0.17324898 0.07443894 0.0476097 ]\n",
      "  [0.10552267 0.17844538 0.13052852 0.03479034 0.09062788 0.17434527\n",
      "   0.18660169 0.19336221 0.15708799]]]\n"
     ]
    }
   ],
   "source": [
    "def hoge(a, b):\n",
    "    a_ = a.reshape(a.shape[1], a.shape[0], 1)\n",
    "    print(a_.shape)\n",
    "    print(a_.shape, b.shape)\n",
    "    print(a_ *  b)\n",
    "    \n",
    "a = np.random.random((5, 3))\n",
    "b = np.random.random((5, 9))\n",
    "hoge(a, b)"
   ]
  },
  {
   "cell_type": "code",
   "execution_count": 85,
   "metadata": {},
   "outputs": [
    {
     "name": "stdout",
     "output_type": "stream",
     "text": [
      "[[0.4360848  0.91701585 0.70460583]\n",
      " [0.84900317 0.98334627 0.7670556 ]]\n",
      "[[[0.8659     0.30347059 0.90498169]\n",
      "  [0.13543996 0.98590624 0.06707152]]\n",
      "\n",
      " [[0.52610041 0.28368946 0.80545839]\n",
      "  [0.17457622 0.40929568 0.4871083 ]]\n",
      "\n",
      " [[0.69149569 0.02407539 0.83113   ]\n",
      "  [0.30797516 0.05961945 0.93526984]]]\n",
      "[[[-0.42981519  0.61354527 -0.20037587]\n",
      "  [ 0.71356321 -0.00255997  0.69998409]]\n",
      "\n",
      " [[-0.09001561  0.63332639 -0.10085256]\n",
      "  [ 0.67442695  0.57405059  0.27994731]]\n",
      "\n",
      " [[-0.25541089  0.89294046 -0.12652417]\n",
      "  [ 0.54102801  0.92372681 -0.16821423]]]\n"
     ]
    }
   ],
   "source": [
    "a = np.random.random((2, 3))\n",
    "b = np.random.random((3, 2, 3))\n",
    "\n",
    "print(a)\n",
    "print(b)\n",
    "print(a - b)"
   ]
  }
 ],
 "metadata": {
  "kernelspec": {
   "display_name": "Python 3",
   "language": "python",
   "name": "python3"
  },
  "language_info": {
   "codemirror_mode": {
    "name": "ipython",
    "version": 3
   },
   "file_extension": ".py",
   "mimetype": "text/x-python",
   "name": "python",
   "nbconvert_exporter": "python",
   "pygments_lexer": "ipython3",
   "version": "3.6.5"
  }
 },
 "nbformat": 4,
 "nbformat_minor": 2
}
