{
 "cells": [
  {
   "cell_type": "markdown",
   "metadata": {},
   "source": [
    "### 機械学習で使いそうな `計算` を python で実装する ###"
   ]
  },
  {
   "cell_type": "code",
   "execution_count": 1,
   "metadata": {},
   "outputs": [],
   "source": [
    "import numpy as np\n",
    "import matplotlib.pyplot as plt\n",
    "%matplotlib inline"
   ]
  },
  {
   "cell_type": "markdown",
   "metadata": {},
   "source": [
    "#### 平均二乗誤差関数 ####\n",
    "\n",
    "誤差関数の一種。一番基礎的なもの。\n",
    "\n",
    "$$ \\frac{1}{N}\\sum_{N=1}^{N} (y_n - t_n)^2 $$\n",
    "\n",
    "$$ y_n : 予測値 $$\n",
    "$$ t_n : 実測値 $$\n",
    "\n",
    "予測値と実測値の誤差の平均をとる。\n",
    "二乗しているのは、絶対値的な距離として誤差を算出するため。\n",
    "\n",
    "この誤差関数の値が `小さい` = `誤差が少ない` という事なので、Jが最小になる、関数yのパラメータを探索する必要がある。\n",
    "パラメータの探索には勾配法などの、 `数値解` と 式を解く `解析解`が存在する\n",
    "\n",
    "また、平均二乗誤差は平方根を取ると元のスケールに戻すことができる。\n",
    "すると誤差の平均をとっていることになるので、 `標準偏差` になる。"
   ]
  },
  {
   "cell_type": "code",
   "execution_count": 2,
   "metadata": {},
   "outputs": [
    {
     "name": "stdout",
     "output_type": "stream",
     "text": [
      "9.0\n",
      "2.5\n"
     ]
    }
   ],
   "source": [
    "# 二乗誤差関数\n",
    "def mse_func(y, t):\n",
    "    return np.mean(np.square(y - t))\n",
    "\n",
    "# スカラーの場合\n",
    "print(mse_func(1, 4))\n",
    "\n",
    "# ベクトルの場合\n",
    "y = np.array([1, 2])\n",
    "t = np.array([2, 4])\n",
    "print(mse_func(y, t))"
   ]
  },
  {
   "cell_type": "markdown",
   "metadata": {},
   "source": [
    "#### シグモイド関数 ####\n",
    "　標準正規分布を微分した関数。\n",
    " 取る値は必ず 0 ~ 1 の範囲に収まる。\n",
    " そのため、出力で確率を表す時などに使われる。\n",
    "\n",
    "$$ y=\\frac{1}{1+exp(x)} $$\n",
    "\n",
    "xの値が\n",
    "\n",
    "    負の場合 → 0.5 < 0\n",
    "    \n",
    "    正の場合 → 0.5 > 0\n",
    "    \n",
    "    0の場合 → 0\n",
    "    \n",
    "となる。\n",
    "この関数は、exp(x) の性質上、1 や 0　に収束することはない。"
   ]
  },
  {
   "cell_type": "code",
   "execution_count": 3,
   "metadata": {},
   "outputs": [
    {
     "name": "stdout",
     "output_type": "stream",
     "text": [
      "0.2689414213699951\n",
      "0.5\n",
      "0.7310585786300049\n"
     ]
    }
   ],
   "source": [
    "def sigmoid_func(x):\n",
    "    return 1/(1 + np.exp(-x))\n",
    "\n",
    "print(sigmoid_func(-1))\n",
    "print(sigmoid_func(0))\n",
    "print(sigmoid_func(1))"
   ]
  },
  {
   "cell_type": "code",
   "execution_count": 4,
   "metadata": {},
   "outputs": [
    {
     "data": {
      "image/png": "[encoded data removed]",
      "text/plain": [
       "<Figure size 432x288 with 1 Axes>"
      ]
     },
     "metadata": {},
     "output_type": "display_data"
    }
   ],
   "source": [
    "# -10 < x < 10 の範囲で、グラフに描画してみる\n",
    "\n",
    "x = list(np.arange(-10, 10, 0.2))\n",
    "y = [sigmoid_func(i) for i in x]\n",
    "\n",
    "plt.plot(x, y)\n",
    "plt.show()"
   ]
  },
  {
   "cell_type": "markdown",
   "metadata": {},
   "source": [
    "#### ソフトマックス関数 ####\n",
    "複数の出力の合計が1になる関数。\n",
    "\n",
    "主に、確率を求めるために使われる。\n",
    "\n",
    "$$ u = exp(x_1) + exp(x_2) + exp(x_3) $$\n",
    "\n",
    "$$ y_1 = \\frac{exp(x_1)}{u}, y_2 = \\frac{exp(x_2)}{u}, y_3 = \\frac{exp(x_3)}{u} $$\n",
    "\n",
    "一般化をすると\n",
    "\n",
    "$$ y_i = \\frac{exp(x_i)}{\\sum_{K=1}^{j} exp(x_j)} $$\n",
    "\n",
    "\n",
    "ソフトマックス関数に x0 = 0 と　任意の値を取れる x1 を入力するとシグモイド関数を算出することができる。"
   ]
  },
  {
   "cell_type": "code",
   "execution_count": 57,
   "metadata": {},
   "outputs": [
    {
     "name": "stdout",
     "output_type": "stream",
     "text": [
      "[0.81430121 0.87617565 0.39896445 0.5377121  0.42118081]\n",
      "[0.24054304 0.2558966  0.15878677 0.18241967 0.16235392]\n",
      "1.0\n"
     ]
    }
   ],
   "source": [
    "def softmax_func(X):\n",
    "    u = np.sum(np.exp(X))\n",
    "    return np.exp(X) / u\n",
    "\n",
    "X = np.random.rand(5) * 1\n",
    "print(X)\n",
    "print(softmax_func(X))\n",
    "print(np.sum(softmax_func(X)))"
   ]
  },
  {
   "cell_type": "code",
   "execution_count": null,
   "metadata": {},
   "outputs": [],
   "source": []
  }
 ],
 "metadata": {
  "kernelspec": {
   "display_name": "Python 3",
   "language": "python",
   "name": "python3"
  },
  "language_info": {
   "codemirror_mode": {
    "name": "ipython",
    "version": 3
   },
   "file_extension": ".py",
   "mimetype": "text/x-python",
   "name": "python",
   "nbconvert_exporter": "python",
   "pygments_lexer": "ipython3",
   "version": "3.6.5"
  }
 },
 "nbformat": 4,
 "nbformat_minor": 2
}
